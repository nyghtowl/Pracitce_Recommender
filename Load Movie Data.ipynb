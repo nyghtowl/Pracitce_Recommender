{
 "metadata": {
  "name": "",
  "signature": "sha256:2038f2a57943595f16e8be944276fbff2c13fdbcda064d139ea67fc2c5aa82be"
 },
 "nbformat": 3,
 "nbformat_minor": 0,
 "worksheets": [
  {
   "cells": [
    {
     "cell_type": "markdown",
     "metadata": {},
     "source": [
      "Data used is [here](http://snap.stanford.edu/data/bigdata/amazon/amazon-meta.txt.gz)"
     ]
    },
    {
     "cell_type": "code",
     "collapsed": false,
     "input": [
      "!gunzip data/amazon-meta.txt.gz"
     ],
     "language": "python",
     "metadata": {},
     "outputs": [],
     "prompt_number": 1
    },
    {
     "cell_type": "code",
     "collapsed": false,
     "input": [
      "# Fix misspellings\n",
      "!sed \"s/cutomer/customer/g\" data/amazon-meta.txt > products.txt"
     ],
     "language": "python",
     "metadata": {},
     "outputs": [],
     "prompt_number": 2
    },
    {
     "cell_type": "code",
     "collapsed": false,
     "input": [
      "!ls -lah data/"
     ],
     "language": "python",
     "metadata": {},
     "outputs": [
      {
       "output_type": "stream",
       "stream": "stdout",
       "text": [
        "total 1924024\r\n",
        "drwxr-xr-x  3 willow  staff   102B Jul 26 13:41 \u001b[34m.\u001b[m\u001b[m\r\n",
        "drwxr-xr-x  8 willow  staff   272B Jul 26 13:44 \u001b[34m..\u001b[m\u001b[m\r\n",
        "-rw-r--r--  1 willow  staff   939M Jul 26 13:40 products.txt\r\n"
       ]
      }
     ],
     "prompt_number": 2
    },
    {
     "cell_type": "code",
     "collapsed": false,
     "input": [
      "!head data/products.txt"
     ],
     "language": "python",
     "metadata": {},
     "outputs": [
      {
       "output_type": "stream",
       "stream": "stdout",
       "text": [
        "# Full information about Amazon Share the Love products\r",
        "\r\n",
        "Total items: 548552\r",
        "\r\n",
        "\r",
        "\r\n",
        "Id:   0\r",
        "\r\n",
        "ASIN: 0771044445\r",
        "\r\n",
        "  discontinued product\r",
        "\r\n",
        "\r",
        "\r\n",
        "Id:   1\r",
        "\r\n",
        "ASIN: 0827229534\r",
        "\r\n",
        "  title: Patterns of Preaching: A Sermon Sampler\r",
        "\r\n"
       ]
      }
     ],
     "prompt_number": 3
    },
    {
     "cell_type": "code",
     "collapsed": false,
     "input": [
      "# strip off header\n",
      "!tail -n +4 data/products.txt > ./data/products_strip.txt"
     ],
     "language": "python",
     "metadata": {},
     "outputs": [],
     "prompt_number": 10
    },
    {
     "cell_type": "code",
     "collapsed": false,
     "input": [
      "!head -n 10 data/products.txt"
     ],
     "language": "python",
     "metadata": {},
     "outputs": [
      {
       "output_type": "stream",
       "stream": "stdout",
       "text": [
        "# Full information about Amazon Share the Love products\r",
        "\r\n",
        "Total items: 548552\r",
        "\r\n",
        "\r",
        "\r\n",
        "Id:   0\r",
        "\r\n",
        "ASIN: 0771044445\r",
        "\r\n",
        "  discontinued product\r",
        "\r\n",
        "\r",
        "\r\n",
        "Id:   1\r",
        "\r\n",
        "ASIN: 0827229534\r",
        "\r\n",
        "  title: Patterns of Preaching: A Sermon Sampler\r",
        "\r\n"
       ]
      }
     ],
     "prompt_number": 15
    },
    {
     "cell_type": "code",
     "collapsed": false,
     "input": [
      "!head data/products_strip.txt"
     ],
     "language": "python",
     "metadata": {},
     "outputs": [
      {
       "output_type": "stream",
       "stream": "stdout",
       "text": [
        "Id:   0\r",
        "\r\n",
        "ASIN: 0771044445\r",
        "\r\n",
        "  discontinued product\r",
        "\r\n",
        "\r",
        "\r\n",
        "Id:   1\r",
        "\r\n",
        "ASIN: 0827229534\r",
        "\r\n",
        "  title: Patterns of Preaching: A Sermon Sampler\r",
        "\r\n",
        "  group: Book\r",
        "\r\n",
        "  salesrank: 396585\r",
        "\r\n",
        "  similar: 5  0804215715  156101074X  0687023955  0687074231  082721619X\r",
        "\r\n"
       ]
      }
     ],
     "prompt_number": 11
    },
    {
     "cell_type": "heading",
     "level": 4,
     "metadata": {},
     "source": [
      "Convert data to dict"
     ]
    },
    {
     "cell_type": "code",
     "collapsed": false,
     "input": [
      "import random"
     ],
     "language": "python",
     "metadata": {},
     "outputs": [],
     "prompt_number": 16
    },
    {
     "cell_type": "code",
     "collapsed": false,
     "input": [
      "def filter_line(text, prefix):\n",
      "    return filter(lambda x: prefix in x, text.splitlines())[0].partitio"
     ],
     "language": "python",
     "metadata": {},
     "outputs": []
    }
   ],
   "metadata": {}
  }
 ]
}