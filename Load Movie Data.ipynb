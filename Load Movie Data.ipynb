{
 "metadata": {
  "name": "",
  "signature": "sha256:4d0c0b02bc946ee53a9bfff0fd2a3708596dc0c95c809a83ffb04533ce260113"
 },
 "nbformat": 3,
 "nbformat_minor": 0,
 "worksheets": [
  {
   "cells": [
    {
     "cell_type": "markdown",
     "metadata": {},
     "source": [
      "Data used is [here](http://snap.stanford.edu/data/bigdata/amazon/amazon-meta.txt.gz)"
     ]
    },
    {
     "cell_type": "code",
     "collapsed": false,
     "input": [
      "!gunzip data/amazon-meta.txt.gz"
     ],
     "language": "python",
     "metadata": {},
     "outputs": [],
     "prompt_number": 1
    },
    {
     "cell_type": "code",
     "collapsed": false,
     "input": [
      "# Fix misspellings\n",
      "!sed \"s/cutomer/customer/g\" data/amazon-meta.txt > products.txt"
     ],
     "language": "python",
     "metadata": {},
     "outputs": [],
     "prompt_number": 2
    },
    {
     "cell_type": "code",
     "collapsed": false,
     "input": [
      "!ls -lah data/"
     ],
     "language": "python",
     "metadata": {},
     "outputs": [
      {
       "output_type": "stream",
       "stream": "stdout",
       "text": [
        "total 1924024\r\n",
        "drwxr-xr-x  3 willow  staff   102B Jul 26 13:41 \u001b[34m.\u001b[m\u001b[m\r\n",
        "drwxr-xr-x  8 willow  staff   272B Jul 26 13:44 \u001b[34m..\u001b[m\u001b[m\r\n",
        "-rw-r--r--  1 willow  staff   939M Jul 26 13:40 products.txt\r\n"
       ]
      }
     ],
     "prompt_number": 2
    },
    {
     "cell_type": "code",
     "collapsed": false,
     "input": [
      "!head data/products.txt"
     ],
     "language": "python",
     "metadata": {},
     "outputs": [
      {
       "output_type": "stream",
       "stream": "stdout",
       "text": [
        "# Full information about Amazon Share the Love products\r",
        "\r\n",
        "Total items: 548552\r",
        "\r\n",
        "\r",
        "\r\n",
        "Id:   0\r",
        "\r\n",
        "ASIN: 0771044445\r",
        "\r\n",
        "  discontinued product\r",
        "\r\n",
        "\r",
        "\r\n",
        "Id:   1\r",
        "\r\n",
        "ASIN: 0827229534\r",
        "\r\n",
        "  title: Patterns of Preaching: A Sermon Sampler\r",
        "\r\n"
       ]
      }
     ],
     "prompt_number": 3
    },
    {
     "cell_type": "code",
     "collapsed": false,
     "input": [
      "# strip off header\n",
      "!tail -n +4 data/products.txt > ./data/products_strip.txt"
     ],
     "language": "python",
     "metadata": {},
     "outputs": [],
     "prompt_number": 10
    },
    {
     "cell_type": "code",
     "collapsed": false,
     "input": [
      "!head -n 10 data/products.txt"
     ],
     "language": "python",
     "metadata": {},
     "outputs": [
      {
       "output_type": "stream",
       "stream": "stdout",
       "text": [
        "# Full information about Amazon Share the Love products\r",
        "\r\n",
        "Total items: 548552\r",
        "\r\n",
        "\r",
        "\r\n",
        "Id:   0\r",
        "\r\n",
        "ASIN: 0771044445\r",
        "\r\n",
        "  discontinued product\r",
        "\r\n",
        "\r",
        "\r\n",
        "Id:   1\r",
        "\r\n",
        "ASIN: 0827229534\r",
        "\r\n",
        "  title: Patterns of Preaching: A Sermon Sampler\r",
        "\r\n"
       ]
      }
     ],
     "prompt_number": 15
    },
    {
     "cell_type": "code",
     "collapsed": false,
     "input": [
      "!head data/products_strip.txt"
     ],
     "language": "python",
     "metadata": {},
     "outputs": [
      {
       "output_type": "stream",
       "stream": "stdout",
       "text": [
        "Id:   0\r",
        "\r\n",
        "ASIN: 0771044445\r",
        "\r\n",
        "  discontinued product\r",
        "\r\n",
        "\r",
        "\r\n",
        "Id:   1\r",
        "\r\n",
        "ASIN: 0827229534\r",
        "\r\n",
        "  title: Patterns of Preaching: A Sermon Sampler\r",
        "\r\n",
        "  group: Book\r",
        "\r\n",
        "  salesrank: 396585\r",
        "\r\n",
        "  similar: 5  0804215715  156101074X  0687023955  0687074231  082721619X\r",
        "\r\n"
       ]
      }
     ],
     "prompt_number": 11
    },
    {
     "cell_type": "heading",
     "level": 4,
     "metadata": {},
     "source": [
      "Convert data to dict"
     ]
    },
    {
     "cell_type": "code",
     "collapsed": false,
     "input": [
      "import random"
     ],
     "language": "python",
     "metadata": {},
     "outputs": [],
     "prompt_number": 16
    },
    {
     "cell_type": "code",
     "collapsed": false,
     "input": [
      "# Filter lines into dicts\n",
      "def filter_line(text, prefix):\n",
      "    return filter(lambda x: prefix in x, text.splitlines())[0].partition(\":\")"
     ],
     "language": "python",
     "metadata": {},
     "outputs": [],
     "prompt_number": 17
    },
    {
     "cell_type": "code",
     "collapsed": false,
     "input": [
      "def reviews(chunk):\n",
      "    idx = chunk.find(\"reviews: total:\")\n",
      "    reviews = chunk[idx:].splitlines()[1:]\n",
      "    \n",
      "    def store_reviews(reviews):\n",
      "        rev_list = reviews.split()\n",
      "        prod_reviews = {'date': rev_list.pop(0)}\n",
      "        \n",
      "        for idx in xrange(0, len(rev_list),2):\n",
      "            prod_reviews[rev_list[idx][:-1]] = splist[idx+1]\n",
      "        return {}"
     ],
     "language": "python",
     "metadata": {},
     "outputs": []
    },
    {
     "cell_type": "code",
     "collapsed": false,
     "input": [
      "def parse(chunk):\n",
      "    # avoid discontinued products\n",
      "    if any([text.strip().startswith('discontinued product') for text in chunk.splitlines()]):\n",
      "        return\n",
      "    return {\n",
      "        \"id\" : int(filter_line(chunk, \"Id\")),\n",
      "        \"group\": filter_line(chunk, \"group\"),\n",
      "        \"title\": filter_line(chunk, \"title\"),\n",
      "        \"reviews\": filter_line(chunk, \"review\"),\n",
      "\n",
      "}"
     ],
     "language": "python",
     "metadata": {},
     "outputs": []
    },
    {
     "cell_type": "code",
     "collapsed": false,
     "input": [
      "def filter_file(file):\n",
      "    prod_hash = {}\n",
      "    chunk = \"\"\n",
      "    with open(file) as f:\n",
      "        for line in f:\n",
      "            if line == \"\\r\\n\": # indicates breaks in product chunks\n",
      "                idx = int(filter_line(chunk, \"Id\"))\n",
      "                \n",
      "                # shows progress\n",
      "                if idx % 10000 == 0: print \"Parsed product %d\" %idx\n",
      "                \n",
      "                # parse data on the fly with entire chunks to compress\n",
      "                if chunk:\n",
      "                    if random.random() < 0.002:\n",
      "                        parse = parse(chunk)\n",
      "                        if parsed:\n",
      "                            prod_hash[idx] = parsed\n",
      "                            \n",
      "                chunk = \"\"\n",
      "                        \n",
      "            else:\n",
      "                chunk += line\n",
      "\n",
      "        return prod_hash"
     ],
     "language": "python",
     "metadata": {},
     "outputs": []
    }
   ],
   "metadata": {}
  }
 ]
}