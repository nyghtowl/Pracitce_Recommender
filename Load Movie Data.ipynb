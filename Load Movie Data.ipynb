{
 "metadata": {
  "name": "",
  "signature": "sha256:9a341808d5f2150033a82105e29b5c5e77876161f56fd6e9f47b25c76b42166f"
 },
 "nbformat": 3,
 "nbformat_minor": 0,
 "worksheets": [
  {
   "cells": [
    {
     "cell_type": "code",
     "collapsed": false,
     "input": [
      "!gunzip data/amazon-meta.txt.gz"
     ],
     "language": "python",
     "metadata": {},
     "outputs": [],
     "prompt_number": 1
    },
    {
     "cell_type": "code",
     "collapsed": false,
     "input": [],
     "language": "python",
     "metadata": {},
     "outputs": []
    }
   ],
   "metadata": {}
  }
 ]
}