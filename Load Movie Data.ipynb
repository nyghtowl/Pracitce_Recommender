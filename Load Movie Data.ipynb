{
 "metadata": {
  "name": "",
  "signature": "sha256:b35ac70cf9354bbfcebd3d3f87f8b5d039178a7a5370642cca09fea768537d43"
 },
 "nbformat": 3,
 "nbformat_minor": 0,
 "worksheets": [
  {
   "cells": [
    {
     "cell_type": "markdown",
     "metadata": {},
     "source": [
      "Data used is [here](http://snap.stanford.edu/data/bigdata/amazon/amazon-meta.txt.gz)"
     ]
    },
    {
     "cell_type": "code",
     "collapsed": false,
     "input": [
      "!gunzip data/amazon-meta.txt.gz"
     ],
     "language": "python",
     "metadata": {},
     "outputs": [],
     "prompt_number": 1
    },
    {
     "cell_type": "code",
     "collapsed": false,
     "input": [
      "# Fix misspellings\n",
      "!sed \"s/cutomer/customer/g\" data/amazon-meta.txt > products.txt"
     ],
     "language": "python",
     "metadata": {},
     "outputs": [],
     "prompt_number": 2
    },
    {
     "cell_type": "code",
     "collapsed": false,
     "input": [
      "!ls -lah data/"
     ],
     "language": "python",
     "metadata": {},
     "outputs": [
      {
       "output_type": "stream",
       "stream": "stdout",
       "text": [
        "total 1924024\r\n",
        "drwxr-xr-x  3 willow  staff   102B Jul 26 13:41 \u001b[34m.\u001b[m\u001b[m\r\n",
        "drwxr-xr-x  8 willow  staff   272B Jul 26 13:44 \u001b[34m..\u001b[m\u001b[m\r\n",
        "-rw-r--r--  1 willow  staff   939M Jul 26 13:40 products.txt\r\n"
       ]
      }
     ],
     "prompt_number": 2
    },
    {
     "cell_type": "code",
     "collapsed": false,
     "input": [
      "!head data/products.txt"
     ],
     "language": "python",
     "metadata": {},
     "outputs": [
      {
       "output_type": "stream",
       "stream": "stdout",
       "text": [
        "# Full information about Amazon Share the Love products\r",
        "\r\n",
        "Total items: 548552\r",
        "\r\n",
        "\r",
        "\r\n",
        "Id:   0\r",
        "\r\n",
        "ASIN: 0771044445\r",
        "\r\n",
        "  discontinued product\r",
        "\r\n",
        "\r",
        "\r\n",
        "Id:   1\r",
        "\r\n",
        "ASIN: 0827229534\r",
        "\r\n",
        "  title: Patterns of Preaching: A Sermon Sampler\r",
        "\r\n"
       ]
      }
     ],
     "prompt_number": 3
    },
    {
     "cell_type": "code",
     "collapsed": false,
     "input": [
      "# strip off header\n",
      "!tail -n +4 products.txt > products_strip.txt"
     ],
     "language": "python",
     "metadata": {},
     "outputs": [
      {
       "output_type": "stream",
       "stream": "stdout",
       "text": [
        "tail: products.txt: No such file or directory\r\n"
       ]
      }
     ],
     "prompt_number": 4
    },
    {
     "cell_type": "code",
     "collapsed": false,
     "input": [
      "ls -la"
     ],
     "language": "python",
     "metadata": {},
     "outputs": [
      {
       "output_type": "stream",
       "stream": "stdout",
       "text": [
        "total 24\r\n",
        "drwxr-xr-x   9 willow  staff   306 Jul 26 13:47 \u001b[34m.\u001b[m\u001b[m/\r\n",
        "drwxr-xr-x   9 willow  staff   306 Jul 25 23:01 \u001b[34m..\u001b[m\u001b[m/\r\n",
        "drwxr-xr-x  13 willow  staff   442 Jul 26 13:45 \u001b[34m.git\u001b[m\u001b[m/\r\n",
        "-rw-r--r--   1 willow  staff    69 Jul 26 13:44 .gitignore\r\n",
        "drwxr-xr-x   3 willow  staff   102 Jul 26 13:38 \u001b[34m.ipynb_checkpoints\u001b[m\u001b[m/\r\n",
        "-rw-r--r--   1 willow  staff  1062 Jul 26 13:40 Load Movie Data.ipynb\r\n",
        "drwxr-xr-x   3 willow  staff   102 Jul 26 13:41 \u001b[34mdata\u001b[m\u001b[m/\r\n",
        "-rw-r--r--   1 willow  staff  1672 Jul 26 13:26 movie_rec.py\r\n",
        "-rw-r--r--   1 willow  staff     0 Jul 26 13:47 products_strip.txt\r\n"
       ]
      }
     ],
     "prompt_number": 6
    },
    {
     "cell_type": "code",
     "collapsed": false,
     "input": [],
     "language": "python",
     "metadata": {},
     "outputs": []
    }
   ],
   "metadata": {}
  }
 ]
}